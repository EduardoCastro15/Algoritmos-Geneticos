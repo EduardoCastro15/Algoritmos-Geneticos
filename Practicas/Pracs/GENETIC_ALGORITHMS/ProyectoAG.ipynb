{
 "cells": [
  {
   "cell_type": "code",
   "execution_count": 3,
   "metadata": {},
   "outputs": [
    {
     "name": "stdout",
     "output_type": "stream",
     "text": [
      "Requirement already satisfied: numpy in c:\\users\\oscar\\anaconda3\\lib\\site-packages (1.16.2)\n",
      "Note: you may need to restart the kernel to use updated packages.\n"
     ]
    }
   ],
   "source": [
    "pip install numpy"
   ]
  },
  {
   "cell_type": "code",
   "execution_count": 4,
   "metadata": {},
   "outputs": [
    {
     "name": "stdout",
     "output_type": "stream",
     "text": [
      "Requirement already satisfied: matplotlib in c:\\users\\oscar\\anaconda3\\lib\\site-packages (3.0.3)\n",
      "Requirement already satisfied: numpy>=1.10.0 in c:\\users\\oscar\\anaconda3\\lib\\site-packages (from matplotlib) (1.16.2)\n",
      "Requirement already satisfied: cycler>=0.10 in c:\\users\\oscar\\anaconda3\\lib\\site-packages (from matplotlib) (0.10.0)\n",
      "Requirement already satisfied: kiwisolver>=1.0.1 in c:\\users\\oscar\\anaconda3\\lib\\site-packages (from matplotlib) (1.0.1)\n",
      "Requirement already satisfied: pyparsing!=2.0.4,!=2.1.2,!=2.1.6,>=2.0.1 in c:\\users\\oscar\\anaconda3\\lib\\site-packages (from matplotlib) (2.3.1)\n",
      "Requirement already satisfied: python-dateutil>=2.1 in c:\\users\\oscar\\anaconda3\\lib\\site-packages (from matplotlib) (2.8.0)\n",
      "Requirement already satisfied: six in c:\\users\\oscar\\anaconda3\\lib\\site-packages (from cycler>=0.10->matplotlib) (1.12.0)\n",
      "Requirement already satisfied: setuptools in c:\\users\\oscar\\anaconda3\\lib\\site-packages (from kiwisolver>=1.0.1->matplotlib) (40.8.0)\n",
      "Note: you may need to restart the kernel to use updated packages.\n"
     ]
    }
   ],
   "source": [
    "pip install matplotlib"
   ]
  },
  {
   "cell_type": "code",
   "execution_count": 5,
   "metadata": {},
   "outputs": [
    {
     "name": "stdout",
     "output_type": "stream",
     "text": [
      "Requirement already satisfied: sympy in c:\\users\\irvin\\appdata\\local\\programs\\python\\python37\\lib\\site-packages (0.7.2)\n",
      "Note: you may need to restart the kernel to use updated packages.\n"
     ]
    }
   ],
   "source": [
    "pip install sympy"
   ]
  },
  {
   "cell_type": "code",
   "execution_count": 6,
   "metadata": {},
   "outputs": [
    {
     "name": "stdout",
     "output_type": "stream",
     "text": [
      "los numeros aleatorios son ['0b10101', '0b10', '0b11011', '0b101', '0b10000', '0b10010', '0b10011', '0b110', '0b1000', '0b10', '0b1110', '0b11011', '0b11000', '0b11001', '0b1110', '0b0', '0b10000', '0b1100', '0b10110', '0b10011']\n",
      "los numeros ordenados son ['0b0', '0b10', '0b10', '0b1000', '0b10000', '0b10000', '0b10010', '0b10011', '0b10011', '0b101', '0b10101', '0b10110', '0b110', '0b1100', '0b11000', '0b11001', '0b11011', '0b11011', '0b1110', '0b1110']\n"
     ]
    }
   ],
   "source": [
    "import numpy as np\n",
    "import matplotlib.pyplot as plt\n",
    "\n",
    "\n",
    "aleatorios = [bin(np.random.randint(0,31)) for _ in range(20)] #genera los numeros aleatorios\n",
    "print(\"los numeros aleatorios son\", aleatorios)\n",
    "alord = aleatorios\n",
    "alord.sort() #ordena los aleatorios\n",
    "print(\"los numeros ordenados son\",alord)\n",
    "\n",
    "\n"
   ]
  },
  {
   "cell_type": "code",
   "execution_count": 23,
   "metadata": {},
   "outputs": [
    {
     "name": "stdout",
     "output_type": "stream",
     "text": [
      "los numeros aleatorios son [0, 9, 9, 10, 11, 14, 21, 30, 31, 32]\n"
     ]
    },
    {
     "data": {
      "text/plain": [
       "[<matplotlib.lines.Line2D at 0x289dc84bc18>]"
      ]
     },
     "execution_count": 23,
     "metadata": {},
     "output_type": "execute_result"
    },
    {
     "data": {
      "image/png": "[encoded data removed]",
      "text/plain": [
       "<Figure size 432x288 with 1 Axes>"
      ]
     },
     "metadata": {
      "needs_background": "light"
     },
     "output_type": "display_data"
    }
   ],
   "source": [
    "alord = aleatorios\n",
    "alord.sort()\n",
    "print(\"los numeros aleatorios son\", alord)\n",
    "i=alord\n",
    "j=[i for i in range (n)]\n",
    "\n",
    "plt.plot(j,i)"
   ]
  },
  {
   "cell_type": "code",
   "execution_count": null,
   "metadata": {},
   "outputs": [
    {
     "name": "stdout",
     "output_type": "stream",
     "text": [
      "Ingrese cuantos numeros aleatorios desea obtener\n"
     ]
    }
   ],
   "source": [
    "import numpy as np\n",
    "\n",
    "print(\"Ingrese cuantos numeros aleatorios desea obtener\")\n",
    "n=int(input())\n",
    "\n",
    "#aleatorios1 = [np.random.randn(0,35) for _ in range(n)] #genera los numeros aleatorios\n",
    "np.random.randn()\n",
    "print(\"los numeros aleatorios son\", aleatorios1)"
   ]
  },
  {
   "cell_type": "code",
   "execution_count": 68,
   "metadata": {},
   "outputs": [
    {
     "name": "stdout",
     "output_type": "stream",
     "text": [
      "00000\n",
      "00001\n",
      "00011\n",
      "00010\n",
      "00110\n",
      "00111\n",
      "00101\n",
      "00100\n",
      "01100\n",
      "01101\n",
      "01111\n",
      "01110\n",
      "01010\n",
      "01011\n",
      "01001\n",
      "01000\n",
      "11000\n",
      "11001\n",
      "11011\n",
      "11010\n",
      "11110\n",
      "11111\n",
      "11101\n",
      "11100\n",
      "10100\n",
      "10101\n",
      "10111\n",
      "10110\n",
      "10010\n",
      "10011\n",
      "10001\n",
      "10000\n",
      "None\n"
     ]
    }
   ],
   "source": [
    "n=5\n",
    "def generateGrayarr(n): \n",
    "  \n",
    "    # base case \n",
    "    if (n <= 0): \n",
    "        return\n",
    "  \n",
    "    # 'arr' will store all generated codes \n",
    "    arr = list() \n",
    "  \n",
    "    # start with one-bit pattern \n",
    "    arr.append(\"0\") \n",
    "    arr.append(\"1\") \n",
    "  \n",
    "    # Every iteration of this loop generates  \n",
    "    # 2*i codes from previously generated i codes. \n",
    "    i = 2\n",
    "    j = 0\n",
    "    while(True): \n",
    "  \n",
    "        if i >= 1 << n: \n",
    "            break\n",
    "      \n",
    "        # Enter the prviously generated codes  \n",
    "        # again in arr[] in reverse order.  \n",
    "        # Nor arr[] has double number of codes. \n",
    "        for j in range(i - 1, -1, -1): \n",
    "            arr.append(arr[j]) \n",
    "  \n",
    "        # append 0 to the first half \n",
    "        for j in range(i): \n",
    "            arr[j] = \"0\" + arr[j] \n",
    "  \n",
    "        # append 1 to the second half \n",
    "        for j in range(i, 2 * i): \n",
    "            arr[j] = \"1\" + arr[j] \n",
    "        i = i << 1\n",
    "  \n",
    "    # prcontents of arr[] \n",
    "    for i in range(len(arr)): \n",
    "        print(arr[i]) \n",
    "        \n",
    "print(generateGrayarr(n)); "
   ]
  },
  {
   "cell_type": "code",
   "execution_count": 86,
   "metadata": {},
   "outputs": [
    {
     "data": {
      "text/plain": [
       "['00000',\n",
       " '00001',\n",
       " '00011',\n",
       " '00010',\n",
       " '00110',\n",
       " '00111',\n",
       " '00101',\n",
       " '00100',\n",
       " '01100',\n",
       " '01101',\n",
       " '01111',\n",
       " '01110',\n",
       " '01010',\n",
       " '01011',\n",
       " '01001',\n",
       " '01000',\n",
       " '11000',\n",
       " '11001',\n",
       " '11011',\n",
       " '11010',\n",
       " '11110',\n",
       " '11111',\n",
       " '11101',\n",
       " '11100',\n",
       " '10100',\n",
       " '10101',\n",
       " '10111',\n",
       " '10110',\n",
       " '10010',\n",
       " '10011',\n",
       " '10001',\n",
       " '10000']"
      ]
     },
     "execution_count": 86,
     "metadata": {},
     "output_type": "execute_result"
    }
   ],
   "source": [
    "from sympy.combinatorics.graycode import GrayCode\n",
    "a = GrayCode(5)\n",
    "list(a.generate_gray())"
   ]
  },
  {
   "cell_type": "code",
   "execution_count": 87,
   "metadata": {},
   "outputs": [
    {
     "ename": "TypeError",
     "evalue": "object of type 'GrayCode' has no len()",
     "output_type": "error",
     "traceback": [
      "\u001b[1;31m---------------------------------------------------------------------------\u001b[0m",
      "\u001b[1;31mTypeError\u001b[0m                                 Traceback (most recent call last)",
      "\u001b[1;32m<ipython-input-87-6fc8891259ae>\u001b[0m in \u001b[0;36m<module>\u001b[1;34m\u001b[0m\n\u001b[1;32m----> 1\u001b[1;33m \u001b[0mrandom\u001b[0m\u001b[1;33m.\u001b[0m\u001b[0mshuffle\u001b[0m\u001b[1;33m(\u001b[0m\u001b[0ma\u001b[0m\u001b[1;33m)\u001b[0m\u001b[1;33m\u001b[0m\u001b[1;33m\u001b[0m\u001b[0m\n\u001b[0m\u001b[0;32m      2\u001b[0m \u001b[0mprint\u001b[0m\u001b[1;33m(\u001b[0m\u001b[0ma\u001b[0m\u001b[1;33m)\u001b[0m\u001b[1;33m\u001b[0m\u001b[1;33m\u001b[0m\u001b[0m\n",
      "\u001b[1;32m~\\Anaconda3\\lib\\random.py\u001b[0m in \u001b[0;36mshuffle\u001b[1;34m(self, x, random)\u001b[0m\n\u001b[0;32m    273\u001b[0m         \u001b[1;32mif\u001b[0m \u001b[0mrandom\u001b[0m \u001b[1;32mis\u001b[0m \u001b[1;32mNone\u001b[0m\u001b[1;33m:\u001b[0m\u001b[1;33m\u001b[0m\u001b[1;33m\u001b[0m\u001b[0m\n\u001b[0;32m    274\u001b[0m             \u001b[0mrandbelow\u001b[0m \u001b[1;33m=\u001b[0m \u001b[0mself\u001b[0m\u001b[1;33m.\u001b[0m\u001b[0m_randbelow\u001b[0m\u001b[1;33m\u001b[0m\u001b[1;33m\u001b[0m\u001b[0m\n\u001b[1;32m--> 275\u001b[1;33m             \u001b[1;32mfor\u001b[0m \u001b[0mi\u001b[0m \u001b[1;32min\u001b[0m \u001b[0mreversed\u001b[0m\u001b[1;33m(\u001b[0m\u001b[0mrange\u001b[0m\u001b[1;33m(\u001b[0m\u001b[1;36m1\u001b[0m\u001b[1;33m,\u001b[0m \u001b[0mlen\u001b[0m\u001b[1;33m(\u001b[0m\u001b[0mx\u001b[0m\u001b[1;33m)\u001b[0m\u001b[1;33m)\u001b[0m\u001b[1;33m)\u001b[0m\u001b[1;33m:\u001b[0m\u001b[1;33m\u001b[0m\u001b[1;33m\u001b[0m\u001b[0m\n\u001b[0m\u001b[0;32m    276\u001b[0m                 \u001b[1;31m# pick an element in x[:i+1] with which to exchange x[i]\u001b[0m\u001b[1;33m\u001b[0m\u001b[1;33m\u001b[0m\u001b[1;33m\u001b[0m\u001b[0m\n\u001b[0;32m    277\u001b[0m                 \u001b[0mj\u001b[0m \u001b[1;33m=\u001b[0m \u001b[0mrandbelow\u001b[0m\u001b[1;33m(\u001b[0m\u001b[0mi\u001b[0m\u001b[1;33m+\u001b[0m\u001b[1;36m1\u001b[0m\u001b[1;33m)\u001b[0m\u001b[1;33m\u001b[0m\u001b[1;33m\u001b[0m\u001b[0m\n",
      "\u001b[1;31mTypeError\u001b[0m: object of type 'GrayCode' has no len()"
     ]
    }
   ],
   "source": [
    "random.shuffle(a)\n",
    "print(a)"
   ]
  },
  {
   "cell_type": "code",
   "execution_count": 12,
   "metadata": {},
   "outputs": [
    {
     "name": "stdout",
     "output_type": "stream",
     "text": [
      "1. Opcion 1\n",
      "2. Opcion 2\n",
      "3. Opcion 3\n",
      "4. Salir\n",
      "Elige una opcion\n",
      "Introduce un numero entero: 2\n",
      "Opcion 2\n",
      "1. Opcion 1\n",
      "2. Opcion 2\n",
      "3. Opcion 3\n",
      "4. Salir\n",
      "Elige una opcion\n",
      "Introduce un numero entero: 1\n",
      "Opcion 1\n",
      "1. Opcion 1\n",
      "2. Opcion 2\n",
      "3. Opcion 3\n",
      "4. Salir\n",
      "Elige una opcion\n",
      "Introduce un numero entero: 3\n",
      "Opcion 3\n",
      "1. Opcion 1\n",
      "2. Opcion 2\n",
      "3. Opcion 3\n",
      "4. Salir\n",
      "Elige una opcion\n",
      "Introduce un numero entero: 4\n",
      "Fin\n"
     ]
    }
   ],
   "source": [
    "import os\n",
    "import numpy as np\n",
    "import matplotlib.pyplot as plt\n",
    "\n",
    "def generar ():\n",
    "    \n",
    "    ran_list = random.choices((0, 1), k = 10)\n",
    "\n",
    "def pedirseleccion():\n",
    " \n",
    "    correcto=False\n",
    "    num=0\n",
    "    while(not correcto):\n",
    "        try:\n",
    "            num = int(input(\"Introduce un numero entero: \"))\n",
    "            correcto=True\n",
    "        except ValueError:\n",
    "            print('Error, introduce un numero entero')\n",
    "     \n",
    "    return num\n",
    " \n",
    "salir = False\n",
    "opcion = 0\n",
    " \n",
    "while not salir:\n",
    "    \n",
    "    os.system('cls')\n",
    "    print (\"1. Ruleta\")\n",
    "    print (\"2. Jerarquica\")\n",
    "    print (\"3. Torneo\")\n",
    "    print (\"4. Salir\")\n",
    "     \n",
    "    print (\"Elige una opcion\")\n",
    " \n",
    "    opcion = pedirNumeroEntero()\n",
    " \n",
    "    if opcion == 1:\n",
    "        print (\"Opcion 1\")\n",
    "    elif opcion == 2:\n",
    "        print (\"Opcion 2\")\n",
    "    elif opcion == 3:\n",
    "        print(\"Opcion 3\")\n",
    "    elif opcion == 4:\n",
    "        salir = True\n",
    "    else:\n",
    "        print (\"Introduce un numero entre 1 y 3\")\n",
    " \n",
    "print (\"Fin\")\n",
    "\n",
    "def ruleta():"
   ]
  }
 ],
 "metadata": {
  "kernelspec": {
   "display_name": "Python 3",
   "language": "python",
   "name": "python3"
  },
  "language_info": {
   "codemirror_mode": {
    "name": "ipython",
    "version": 3
   },
   "file_extension": ".py",
   "mimetype": "text/x-python",
   "name": "python",
   "nbconvert_exporter": "python",
   "pygments_lexer": "ipython3",
   "version": "3.7.5"
  }
 },
 "nbformat": 4,
 "nbformat_minor": 2
}
