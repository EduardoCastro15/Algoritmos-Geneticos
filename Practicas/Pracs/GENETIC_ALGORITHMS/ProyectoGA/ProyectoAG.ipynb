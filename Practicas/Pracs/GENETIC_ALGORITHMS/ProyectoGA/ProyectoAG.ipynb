{
 "cells": [
  {
   "cell_type": "code",
   "execution_count": 1,
   "metadata": {},
   "outputs": [
    {
     "name": "stdout",
     "output_type": "stream",
     "text": [
      "Requirement already satisfied: numpy in c:\\users\\irvin\\appdata\\local\\programs\\python\\python37\\lib\\site-packages (1.17.4)\n",
      "Note: you may need to restart the kernel to use updated packages.\n"
     ]
    }
   ],
   "source": [
    "pip install numpy"
   ]
  },
  {
   "cell_type": "code",
   "execution_count": 2,
   "metadata": {
    "scrolled": false
   },
   "outputs": [
    {
     "name": "stdout",
     "output_type": "stream",
     "text": [
      "Requirement already satisfied: matplotlib in c:\\users\\irvin\\appdata\\local\\programs\\python\\python37\\lib\\site-packages (3.1.2)\n",
      "Requirement already satisfied: python-dateutil>=2.1 in c:\\users\\irvin\\appdata\\local\\programs\\python\\python37\\lib\\site-packages (from matplotlib) (2.8.1)\n",
      "Requirement already satisfied: cycler>=0.10 in c:\\users\\irvin\\appdata\\local\\programs\\python\\python37\\lib\\site-packages (from matplotlib) (0.10.0)\n",
      "Requirement already satisfied: pyparsing!=2.0.4,!=2.1.2,!=2.1.6,>=2.0.1 in c:\\users\\irvin\\appdata\\local\\programs\\python\\python37\\lib\\site-packages (from matplotlib) (2.4.5)\n",
      "Requirement already satisfied: numpy>=1.11 in c:\\users\\irvin\\appdata\\local\\programs\\python\\python37\\lib\\site-packages (from matplotlib) (1.17.4)\n",
      "Requirement already satisfied: kiwisolver>=1.0.1 in c:\\users\\irvin\\appdata\\local\\programs\\python\\python37\\lib\\site-packages (from matplotlib) (1.1.0)\n",
      "Requirement already satisfied: six>=1.5 in c:\\users\\irvin\\appdata\\local\\programs\\python\\python37\\lib\\site-packages (from python-dateutil>=2.1->matplotlib) (1.13.0)\n",
      "Requirement already satisfied: setuptools in c:\\users\\irvin\\appdata\\local\\programs\\python\\python37\\lib\\site-packages (from kiwisolver>=1.0.1->matplotlib) (41.6.0)\n",
      "Note: you may need to restart the kernel to use updated packages.\n"
     ]
    }
   ],
   "source": [
    "pip install matplotlib"
   ]
  },
  {
   "cell_type": "code",
   "execution_count": 4,
   "metadata": {
    "scrolled": true
   },
   "outputs": [
    {
     "name": "stdout",
     "output_type": "stream",
     "text": [
      "Ingrese cuantos numeros aleatorios desea obtener\n",
      "15\n",
      "Ingrese el numero donde va a iniciar el rango de los numeros los aleatorios\n",
      "50\n",
      "Ingrese el numero donde va a finalizar el rango de los numeros los aleatorios\n",
      "300\n",
      "los numeros aleatorios son [294, 161, 294, 256, 204, 286, 67, 82, 124, 67, 251, 259, 134, 152, 153]\n",
      "los numeros ordenados son [67, 67, 82, 124, 134, 152, 153, 161, 204, 251, 256, 259, 286, 294, 294]\n",
      "los numeros aleatorios son [67, 67, 82, 124, 134, 152, 153, 161, 204, 251, 256, 259, 286, 294, 294]\n"
     ]
    },
    {
     "data": {
      "text/plain": [
       "[<matplotlib.lines.Line2D at 0x1e0ed86b608>]"
      ]
     },
     "execution_count": 4,
     "metadata": {},
     "output_type": "execute_result"
    },
    {
     "data": {
      "image/png": "[encoded data removed]",
      "text/plain": [
       "<Figure size 432x288 with 1 Axes>"
      ]
     },
     "metadata": {
      "needs_background": "light"
     },
     "output_type": "display_data"
    }
   ],
   "source": [
    "import numpy as np\n",
    "import matplotlib.pyplot as plt\n",
    "#from sympy.combinatorics.graycode import GrayCode\n",
    "\n",
    "print(\"Ingrese cuantos numeros aleatorios desea obtener\")\n",
    "n=int(input())\n",
    "print(\"Ingrese el numero donde va a iniciar el rango de los numeros los aleatorios\")\n",
    "x=int(input())\n",
    "print(\"Ingrese el numero donde va a finalizar el rango de los numeros los aleatorios\")\n",
    "z=int(input())\n",
    "aleatorios = [np.random.randint(x,z) for _ in range(n)] #genera los numeros aleatorios\n",
    "print(\"los numeros aleatorios son\", aleatorios)\n",
    "alord = aleatorios\n",
    "alord.sort() #ordena los aleatorios\n",
    "print(\"los numeros ordenados son\",alord)\n",
    "i=alord\n",
    "j=[i for i in range (n)]\n",
    "\n",
    "plt.plot(j,i)\n",
    "alord = aleatorios\n",
    "alord.sort()\n",
    "print(\"los numeros aleatorios son\", alord)\n",
    "i=alord\n",
    "j=[i for i in range (n)]\n",
    "\n",
    "plt.plot(j,i)"
   ]
  },
  {
   "cell_type": "code",
   "execution_count": null,
   "metadata": {},
   "outputs": [],
   "source": []
  }
 ],
 "metadata": {
  "kernelspec": {
   "display_name": "Python 3",
   "language": "python",
   "name": "python3"
  },
  "language_info": {
   "codemirror_mode": {
    "name": "ipython",
    "version": 3
   },
   "file_extension": ".py",
   "mimetype": "text/x-python",
   "name": "python",
   "nbconvert_exporter": "python",
   "pygments_lexer": "ipython3",
   "version": "3.7.5"
  }
 },
 "nbformat": 4,
 "nbformat_minor": 2
}
